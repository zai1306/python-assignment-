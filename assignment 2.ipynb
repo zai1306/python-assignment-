{
 "cells": [
  {
   "cell_type": "code",
   "execution_count": null,
   "metadata": {},
   "outputs": [],
   "source": [
    "#1 a programe to generate marksheet\n",
    "per = int(input(\"put percentage here %\"));\n",
    "if per >=80 and per <=100:\n",
    "    print(\"A+\")\n",
    "elif per >=70 and per <80:\n",
    "    print(\"A\")\n",
    "elif per >=60 and per <70:\n",
    "    print(\"B\")\n",
    "elif per >=50 and per <60:\n",
    "    print(\"C\")\n",
    "elif per >=50 and per <1:\n",
    "    print(\"Fail\")\n"
   ]
  },
  {
   "cell_type": "code",
   "execution_count": null,
   "metadata": {},
   "outputs": [],
   "source": [
    "#2 to find weather it is even or odd:\n",
    "num = int(input(\"put a number\"))\n",
    "\n",
    "mod = num % 2\n",
    "\n",
    "if mod > 0:\n",
    "    print(\"this is odd number\")\n",
    "else:\n",
    "    print(\"this is even\")"
   ]
  },
  {
   "cell_type": "code",
   "execution_count": null,
   "metadata": {},
   "outputs": [],
   "source": [
    "#3 to find length of list\n",
    "\n",
    "len_list = [1, 2, 4, 6, 8, 9]\n",
    "    \n",
    "print(\"the length of list is : \", len(len_list))"
   ]
  },
  {
   "cell_type": "code",
   "execution_count": null,
   "metadata": {},
   "outputs": [],
   "source": [
    "#4 to print the sum of list:\n",
    "list=[1, 4, 6, 8, 10]\n",
    "\n",
    "total = sum(list)\n",
    "\n",
    "print(\"sum of list is:\" ,total)"
   ]
  },
  {
   "cell_type": "code",
   "execution_count": null,
   "metadata": {},
   "outputs": [],
   "source": [
    "#5 to find largest element of list\n",
    "list= [10, 8, 100, 50, 60]\n",
    "list.sort()\n",
    "print(\"largest element of list:\", list[-1] )"
   ]
  },
  {
   "cell_type": "code",
   "execution_count": null,
   "metadata": {},
   "outputs": [],
   "source": [
    "#6 to print a number less than 5:\n",
    "\n",
    "a = [1, 1, 2, 3, 5, 8, 13, 21, 34, 55, 89]\n",
    "\n",
    "for f in a:\n",
    "\n",
    "    if f < 5:\n",
    "\n",
    "        print(f)"
   ]
  },
  {
   "cell_type": "code",
   "execution_count": null,
   "metadata": {},
   "outputs": [],
   "source": []
  }
 ],
 "metadata": {
  "kernelspec": {
   "display_name": "Python 3",
   "language": "python",
   "name": "python3"
  },
  "language_info": {
   "codemirror_mode": {
    "name": "ipython",
    "version": 3
   },
   "file_extension": ".py",
   "mimetype": "text/x-python",
   "name": "python",
   "nbconvert_exporter": "python",
   "pygments_lexer": "ipython3",
   "version": "3.7.4"
  }
 },
 "nbformat": 4,
 "nbformat_minor": 2
}
