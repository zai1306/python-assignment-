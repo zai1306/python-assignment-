{
 "cells": [
  {
   "cell_type": "code",
   "execution_count": 1,
   "metadata": {},
   "outputs": [
    {
     "name": "stdout",
     "output_type": "stream",
     "text": [
      "{'first_name': 'Ahsan', 'last_name': 'Fahad', 'age': '20', 'city': 'karachi', 'I.com': 'cleared in 2017'}\n"
     ]
    }
   ],
   "source": [
    "\"\"\"task one: dictionary to store information about a person \"\"\"\n",
    "\n",
    "bio = {\n",
    "    \"first_name\":\"Ahsan\",\n",
    "    \"last_name\":\"Fahad\",\n",
    "    \"age\":\"20\",\n",
    "    \"city\":\"karachi\"}\n",
    "    \n",
    "     \n",
    "\n",
    "\n",
    "bio['B.com'] = 'recently cleared'\n",
    "bio['I.com'] = 'cleared in 2017'\n",
    "\n",
    "del bio ['B.com']\n",
    "\n",
    "print(bio)\n"
   ]
  },
  {
   "cell_type": "code",
   "execution_count": 3,
   "metadata": {},
   "outputs": [
    {
     "name": "stdout",
     "output_type": "stream",
     "text": [
      "is considered industrial hub\n"
     ]
    }
   ],
   "source": [
    "\"\"\"task two: cities dictionary\"\"\"\n",
    "\n",
    "cities = {\n",
    "    'karachi': {\n",
    "        'country beloging':'Pakistan',\n",
    "        'aproximate population':'14.91 million',\n",
    "        'fact':'is considered industrial hub'\n",
    "    },\n",
    "    'Mumbai': {'country belongin': 'India',\n",
    "               'aproximate population': '18.41 million', \n",
    "               'fact': 'largest city of india'},\n",
    "    'Dhaka': {'country belongin': 'Bangladesh', \n",
    "              'aproximate population': '8.9 million', \n",
    "              'fact': 'economic, political and trational center of country'}\n",
    "}\n",
    "\n",
    "print(cities['karachi']['fact']) "
   ]
  },
  {
   "cell_type": "code",
   "execution_count": null,
   "metadata": {},
   "outputs": [],
   "source": [
    "\"\"\"task three: loop to tell ticket charges \"\"\"\n",
    "\n",
    "age = int(input(\"Enter your age\"));\n",
    "\n",
    "if age < 3:\n",
    "    print(\"ticket is free\")\n",
    "elif age >=3 and age <=11:\n",
    "    print(\"ticket is $10\")\n",
    "elif age >=12 :\n",
    "    print(\"ticket is $15\")"
   ]
  },
  {
   "cell_type": "code",
   "execution_count": null,
   "metadata": {},
   "outputs": [],
   "source": [
    "\"\"\"task four: function to type favourite book's message\"\"\"\n",
    "\n",
    "def my_favourite_book(title):\n",
    "    print(title + \" says that nothing is impossible\")\n",
    "    \n",
    "my_favourite_book('Alchemist')    "
   ]
  },
  {
   "cell_type": "code",
   "execution_count": null,
   "metadata": {},
   "outputs": [],
   "source": [
    "\"\"\"task five: number guessing game\"\"\"\n",
    "\n",
    "import random\n",
    "n = random.randint(1, 30)\n",
    "guess = int(input(\"Enter a number from 1 to 30: \"));\n",
    "while n != \"guess\":\n",
    "    print\n",
    "    if guess < n:\n",
    "        print (\"guess is low\")\n",
    "        guess = int(input(\"Enter a number from 1 to 30: \"));\n",
    "    elif guess > n:\n",
    "        print (\"guess is high\")\n",
    "        guess = int(input(\"Enter a number from 1 to 30: \"));\n",
    "    else:\n",
    "        print (\"you guessed it!\")\n",
    "        break\n",
    "    print"
   ]
  },
  {
   "cell_type": "code",
   "execution_count": null,
   "metadata": {},
   "outputs": [],
   "source": []
  }
 ],
 "metadata": {
  "kernelspec": {
   "display_name": "Python 3",
   "language": "python",
   "name": "python3"
  },
  "language_info": {
   "codemirror_mode": {
    "name": "ipython",
    "version": 3
   },
   "file_extension": ".py",
   "mimetype": "text/x-python",
   "name": "python",
   "nbconvert_exporter": "python",
   "pygments_lexer": "ipython3",
   "version": "3.7.4"
  }
 },
 "nbformat": 4,
 "nbformat_minor": 2
}
