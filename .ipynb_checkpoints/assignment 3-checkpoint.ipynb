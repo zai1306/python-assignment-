{
 "cells": [
  {
   "cell_type": "code",
   "execution_count": null,
   "metadata": {},
   "outputs": [],
   "source": [
    "#task one\n",
    "\n",
    "val1 = input('add first value')\n",
    "val2 = input ('add second value')\n",
    "operator = input ('add operator')\n",
    "\n",
    "val1 = int(val1)\n",
    "val2 = int(val2)\n",
    "           \n",
    "if operator == '+':\n",
    "           val = val1+val2\n",
    "           print(val, 'answer')\n",
    "elif operator == '-':\n",
    "           val = val1+val2\n",
    "           print(val, 'answer')\n",
    "elif operator == '*':\n",
    "           val = val1+val2\n",
    "           print(val, 'answer')           \n",
    "elif operator == '/':\n",
    "           val = val1+val2\n",
    "           print(val, 'answer')                       "
   ]
  },
  {
   "cell_type": "code",
   "execution_count": null,
   "metadata": {},
   "outputs": [],
   "source": [
    "task 2 could not be accomplished"
   ]
  },
  {
   "cell_type": "code",
   "execution_count": null,
   "metadata": {},
   "outputs": [],
   "source": [
    "#task 3\n",
    "\n",
    "dict = {'key1':'ameen','key2':'faheem','key4':'salman','key4':'haroon'}\n",
    "print(\"Current Dict is: \", dict) \n",
    "  \n",
    "    \n",
    "dict['key2'] = 'for'\n",
    "dict['key3'] = 'have'\n",
    "print(\"Updated Dict is: \", dict) "
   ]
  },
  {
   "cell_type": "code",
   "execution_count": null,
   "metadata": {},
   "outputs": [],
   "source": [
    "#task 4\n",
    "\n",
    "def returnSum(myDict): \n",
    "      \n",
    "    sum = 0\n",
    "    for i in myDict: \n",
    "        sum = sum + myDict[i] \n",
    "      \n",
    "    return sum\n",
    "  \n",
    "\n",
    "dict = {'a': 100, 'b':200, 'c':300} \n",
    "print(\"Sum :\", returnSum(dict))"
   ]
  },
  {
   "cell_type": "code",
   "execution_count": null,
   "metadata": {},
   "outputs": [],
   "source": [
    "#task 5\n",
    "\n",
    "sub = [12, 10, 4, 6, 20, 12, 10]\n",
    "print (Repeat(sub))"
   ]
  },
  {
   "cell_type": "code",
   "execution_count": null,
   "metadata": {},
   "outputs": [],
   "source": [
    "#task 6\n",
    "\n",
    "d={'A':1,'B':2,'C':3}\n",
    "key = input(\"Enter key to check:\")\n",
    "if key in d.keys():\n",
    "      print(\"Key is present and value of the key is:\" , (d[key])) \n",
    "\n",
    "else:\n",
    "      print(\"Key isn't present!\")\n"
   ]
  },
  {
   "cell_type": "code",
   "execution_count": 3,
   "metadata": {},
   "outputs": [
    {
     "ename": "SyntaxError",
     "evalue": "invalid syntax (<ipython-input-3-44701a7a6459>, line 10)",
     "output_type": "error",
     "traceback": [
      "\u001b[1;36m  File \u001b[1;32m\"<ipython-input-3-44701a7a6459>\"\u001b[1;36m, line \u001b[1;32m10\u001b[0m\n\u001b[1;33m    if marksObtained >=80 and = 100:\u001b[0m\n\u001b[1;37m                              ^\u001b[0m\n\u001b[1;31mSyntaxError\u001b[0m\u001b[1;31m:\u001b[0m invalid syntax\n"
     ]
    }
   ],
   "source": [
    "english = int(input(\"add obtained marks\"))\n",
    "urdu = int(input(\"add obtained marks\"))\n",
    "physics = int(input(\"add obtained marks\"))\n",
    "maths = int(input(\"add obtained marks\"))\n",
    "islamiat = int(input(\"add obtained marks\"))\n",
    "\n",
    "output = (english+urdu+physics+maths+islamiat)*850 / 100\n",
    "\n",
    "for marksObtained in output:\n",
    "    if marksObtained >=80 and marksObtained 100:\n",
    "        print(\"A+\")\n",
    "        \n",
    "    elif marksObtained >=70 and < 80:\n",
    "        print(\"A\")\n",
    "     \n",
    "    elif marksObtained >=70 and <=60:\n",
    "        print(\"B\")"
   ]
  },
  {
   "cell_type": "code",
   "execution_count": null,
   "metadata": {},
   "outputs": [],
   "source": []
  }
 ],
 "metadata": {
  "kernelspec": {
   "display_name": "Python 3",
   "language": "python",
   "name": "python3"
  },
  "language_info": {
   "codemirror_mode": {
    "name": "ipython",
    "version": 3
   },
   "file_extension": ".py",
   "mimetype": "text/x-python",
   "name": "python",
   "nbconvert_exporter": "python",
   "pygments_lexer": "ipython3",
   "version": "3.7.4"
  }
 },
 "nbformat": 4,
 "nbformat_minor": 2
}
